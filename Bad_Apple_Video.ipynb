{
  "cells": [
    {
      "cell_type": "markdown",
      "metadata": {
        "id": "view-in-github",
        "colab_type": "text"
      },
      "source": [
        "<a href=\"https://colab.research.google.com/github/Nick088Official/Bad-Apple-Video-Ports/blob/main/Bad_Apple_Video.ipynb\" target=\"_parent\"><img src=\"https://colab.research.google.com/assets/colab-badge.svg\" alt=\"Open In Colab\"/></a>"
      ]
    },
    {
      "cell_type": "markdown",
      "source": [
        "# Bad Apple Video (On Google Colab!)\n",
        "\n",
        "Google Colab Notebook made by [Nick088](https://lnktr.ee/Nick088)\n",
        "\n",
        "[Credits of the Song & Video](https://en.wikipedia.org/wiki/Bad_Apple!!)"
      ],
      "metadata": {
        "id": "bGHT0rdQTFdG"
      }
    },
    {
      "cell_type": "code",
      "execution_count": null,
      "metadata": {
        "id": "qoHP990X9XO2",
        "cellView": "form"
      },
      "outputs": [],
      "source": [
        "#@title Download Video\n",
        "!git clone https://huggingface.co/spaces/Nick088/Bad-Apple-Video\n",
        "\n",
        "%cd /content/Bad-Apple-Video"
      ]
    },
    {
      "cell_type": "code",
      "execution_count": null,
      "metadata": {
        "id": "PiUtGY7bHYRw",
        "cellView": "form"
      },
      "outputs": [],
      "source": [
        "#@title Display the Bad Apple Video\n",
        "from IPython.display import HTML\n",
        "from base64 import b64encode\n",
        "\n",
        "# Read the video file\n",
        "mp4 = open('bad-apple.mp4', 'rb').read()\n",
        "\n",
        "# Create a data URL for the video\n",
        "data_url = \"data:video/mp4;base64,\" + b64encode(mp4).decode()\n",
        "\n",
        "# Display the video\n",
        "HTML(f\"<video width=400 controls><source src='{data_url}' type='video/mp4'></video>\")\n",
        "\n",
        "\n"
      ]
    }
  ],
  "metadata": {
    "colab": {
      "provenance": [],
      "authorship_tag": "ABX9TyP23sA8uY6Gk8TzHlugGiPu",
      "include_colab_link": true
    },
    "kernelspec": {
      "display_name": "Python 3",
      "name": "python3"
    },
    "language_info": {
      "name": "python"
    }
  },
  "nbformat": 4,
  "nbformat_minor": 0
}